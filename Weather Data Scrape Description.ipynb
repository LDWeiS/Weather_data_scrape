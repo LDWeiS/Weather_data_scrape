{
 "cells": [
  {
   "cell_type": "markdown",
   "metadata": {},
   "source": [
    "# Aim\n",
    "\n",
    "#### This project aims to scrape daily weather data from a weather webpage. The data scrape is to be used to analyse weather patterns of the local area.\n",
    "\n",
    "#### The scrape is done using pythons urllib library to obtain a response from weather page with data stored as a json file. The data is then loaded into a Pandas dataframe to be cleaned for further storage. Due to the way data is generated and stored, there will be duplicates from day to day updates. Using Pandas library to clean up the duplicates, the data will then be saved into a local csv file. \n",
    "\n",
    "#### Additional objective for this project is to learn about storing the data in a sql format. Initial experimentation using sqlite presented limitations in managing the data in multiple tables. Switching up to PostgreSQL allowed for easier separation of data into different tables and improved linking of table data. "
   ]
  },
  {
   "cell_type": "markdown",
   "metadata": {},
   "source": [
    "# Data Scraping"
   ]
  },
  {
   "cell_type": "markdown",
   "metadata": {},
   "source": [
    "## Import Libraries"
   ]
  },
  {
   "cell_type": "code",
   "execution_count": null,
   "metadata": {},
   "outputs": [],
   "source": [
    "import os\n",
    "import json\n",
    "import urllib.request as request\n",
    "import urllib.error\n",
    "import requests\n",
    "from sqlalchemy import create_engine\n",
    "import pandas as pd\n",
    "import time\n",
    "import datetime\n",
    "import csv\n",
    "import psycopg2"
   ]
  },
  {
   "cell_type": "markdown",
   "metadata": {},
   "source": [
    "## Functions"
   ]
  },
  {
   "cell_type": "markdown",
   "metadata": {},
   "source": [
    "### Function to obtain response from web url"
   ]
  },
  {
   "cell_type": "code",
   "execution_count": null,
   "metadata": {},
   "outputs": [],
   "source": [
    "def getResponse(url):\n",
    "    try:\n",
    "        response = json.loads(requests.get(url).text)\n",
    "    except HTTPError as http_err:\n",
    "        print(f'HTTP error occurred: {http_err}')\n",
    "    except Exception as err:\n",
    "        print(f'Other error occurred: {err}')\n",
    "    else:\n",
    "        return response"
   ]
  },
  {
   "cell_type": "markdown",
   "metadata": {},
   "source": [
    "### List of weather stations stored as a dictionary"
   ]
  },
  {
   "cell_type": "code",
   "execution_count": null,
   "metadata": {},
   "outputs": [],
   "source": [
    "def getStation():\n",
    "    station = {''} # Dictionary of Weather Station codes and location\n",
    "    \n",
    "    return station"
   ]
  },
  {
   "cell_type": "markdown",
   "metadata": {},
   "source": [
    "### Function to remove irrelevant columns and to convert data into correct datatypes"
   ]
  },
  {
   "cell_type": "code",
   "execution_count": null,
   "metadata": {},
   "outputs": [],
   "source": [
    "def parseData(weatherData):\n",
    "    \n",
    "#     saveJson(weatherData)\n",
    "    \n",
    "    df = pd.DataFrame(weatherData[\"observations\"][\"data\"])\n",
    "    df.drop(['sort_order','name','history_product','aifstime_utc', 'cloud', 'cloud_base_m', 'cloud_oktas', 'cloud_type_id', 'cloud_type', 'press_tend', 'sea_state', 'swell_dir_worded', 'swell_height', 'swell_period', 'weather'], axis = 1, inplace = True)\n",
    "    df['local_date_time'] = pd.to_datetime(df['local_date_time_full'], format = \"%Y%m%d%H%M%S\")\n",
    "    df['local_date_time_full'] = df['local_date_time_full'].astype('int64')\n",
    "    \n",
    "    appendData(df)\n",
    "    \n",
    "    return df"
   ]
  },
  {
   "cell_type": "markdown",
   "metadata": {},
   "source": [
    "### Function to load previously store data"
   ]
  },
  {
   "cell_type": "code",
   "execution_count": null,
   "metadata": {},
   "outputs": [],
   "source": [
    "def appendData(dataFrame):\n",
    "    if os.path.exists('foo.csv'): \n",
    "        oldFrame = pd.read_csv('bar.csv')\n",
    "        df_join = pd.concat([oldFrame, dataFrame], ignore_index=True).drop_duplicates(subset=['local_date_time_full', 'station']).sort_values(by='station', ascending=False)\n",
    "\n",
    "        df_join.to_csv('baz.csv', index=False)\n",
    "        tosql(df_join)\n",
    "        \n",
    "    else:\n",
    "        dataFrame.to_csv('baz.csv', index=False)"
   ]
  },
  {
   "cell_type": "markdown",
   "metadata": {},
   "source": [
    "### Function to save to sql"
   ]
  },
  {
   "cell_type": "code",
   "execution_count": null,
   "metadata": {},
   "outputs": [],
   "source": [
    "def tosql(data):\n",
    "    engine = create_engine('postgresql://postgres:')\n",
    "    data.to_sql('temp', engine, if_exists='replace')\n",
    "    print(\"Data saved to psql\")"
   ]
  },
  {
   "cell_type": "markdown",
   "metadata": {},
   "source": [
    "### (OPTIONAL) Function to temporarily save downloaded json file"
   ]
  },
  {
   "cell_type": "code",
   "execution_count": null,
   "metadata": {},
   "outputs": [],
   "source": [
    "def saveJson(data):\n",
    "    timeStr = time.strftime('%Y%m%d')\n",
    "    with open('WD_'+ timeStr + '.json', 'w') as jsonFile:\n",
    "        json.dump(weatherData, jsonFile)"
   ]
  },
  {
   "cell_type": "markdown",
   "metadata": {},
   "source": [
    "# Main Function"
   ]
  },
  {
   "cell_type": "code",
   "execution_count": null,
   "metadata": {},
   "outputs": [],
   "source": [
    "station = getStation()\n",
    "\n",
    "for key, value in wmo.items():\n",
    "    try: \n",
    "        url = 'http://hidden.' + value + '.json'\n",
    "        bomData = getResponse(url)\n",
    "        data = parseData(weatherData)\n",
    "        print(key + ' successfully retrived')\n",
    "    except:\n",
    "        print(key + ' error')"
   ]
  },
  {
   "cell_type": "markdown",
   "metadata": {},
   "source": [
    "# PostgreSQL for database storage"
   ]
  },
  {
   "cell_type": "markdown",
   "metadata": {},
   "source": [
    "## Connect to database and create cursor"
   ]
  },
  {
   "cell_type": "code",
   "execution_count": null,
   "metadata": {},
   "outputs": [],
   "source": [
    "conn = psycopg2.connect(\"\"\"host=localhost\n",
    "                        dbname=foobarbaz\n",
    "                        user=username\n",
    "                        password=password\"\"\")\n",
    "\n",
    "c = conn.cursor()"
   ]
  },
  {
   "cell_type": "markdown",
   "metadata": {},
   "source": [
    "## Create weather station table"
   ]
  },
  {
   "cell_type": "code",
   "execution_count": null,
   "metadata": {},
   "outputs": [],
   "source": [
    "c.execute(\"\"\"CREATE TABLE IF NOT EXISTS stationInfo (StationID smallint PRIMARY KEY, \n",
    "                                                     Latitude smallint, \n",
    "                                                     Longitude smallint,\n",
    "                                                     UNIQUE(StationID));\"\"\")"
   ]
  },
  {
   "cell_type": "markdown",
   "metadata": {},
   "source": [
    "## Create temperature table"
   ]
  },
  {
   "cell_type": "code",
   "execution_count": null,
   "metadata": {},
   "outputs": [],
   "source": [
    "c.execute(\"\"\"CREATE TABLE IF NOT EXISTS tempInfo (ID smallint, \n",
    "                                                  local_date_time_full integer,\n",
    "                                                  apparentTemp decimal, \n",
    "                                                  airTemp decimal,\n",
    "                                                  deltaTemp decimal, \n",
    "                                                  dewPoint decimal,\n",
    "                                                  relHumidity integer,\n",
    "                                                  FOREIGN KEY(ID) REFERENCES stationInfo(StationID));\"\"\")"
   ]
  },
  {
   "cell_type": "markdown",
   "metadata": {},
   "source": [
    "## Create wind table"
   ]
  },
  {
   "cell_type": "code",
   "execution_count": null,
   "metadata": {},
   "outputs": [],
   "source": [
    "c.execute(\"\"\"CREATE TABLE IF NOT EXISTS windInfo (ID smallint, \n",
    "                                                  local_date_time_full integer, \n",
    "                                                  windDir varchar(4),\n",
    "                                                  windSpeedKMH smallint,\n",
    "                                                  windSpeedKnots smallint, \n",
    "                                                  gustKMH smallint,\n",
    "                                                  gustKnots smallint, \n",
    "                                                  pressure decimal,\n",
    "                                                  pressureQNH decimal,\n",
    "                                                  pressureMSL decimal,\n",
    "                                                  FOREIGN KEY(ID) REFERENCES stationInfo(StationID)\n",
    "                                                  FOREIGN KEY(local_date_time_full) REFERENCES temperature(local_date_time_full));\"\"\")"
   ]
  },
  {
   "cell_type": "markdown",
   "metadata": {},
   "source": [
    "## Create rain table"
   ]
  },
  {
   "cell_type": "code",
   "execution_count": null,
   "metadata": {},
   "outputs": [],
   "source": [
    "c.execute(\"\"\"CREATE TABLE IF NOT EXISTS rainInfo (ID smallint,  \n",
    "                                                  local_date_time_full integer, \n",
    "                                                  rainTrace integer,\n",
    "                                                  visibilityKM integer,\n",
    "                                                  FOREIGN KEY(ID) REFERENCES stationInfo(StationID),\n",
    "                                                  FOREIGN KEY(local_date_time_full) REFERENCES temperature(local_date_time_full));\"\"\")"
   ]
  },
  {
   "cell_type": "markdown",
   "metadata": {},
   "source": [
    "## Insert temporary data to storage data"
   ]
  },
  {
   "cell_type": "code",
   "execution_count": null,
   "metadata": {},
   "outputs": [],
   "source": [
    "c.execute(\"\"\"INSERT INTO stationInfo (StationID, Latitude, Longitude)\n",
    "             SELECT 'wmo', 'lat', 'lon'\n",
    "             FROM temp\n",
    "             ON CONFLICT (StationID) \n",
    "             DO NOTHING;\"\"\")"
   ]
  },
  {
   "cell_type": "code",
   "execution_count": null,
   "metadata": {},
   "outputs": [],
   "source": [
    "c.execute(\"\"\"INSERT INTO tempInfo (ID, local_date_time_full, apparentTemp, airTemp, deltaTemp, dewPoint, relHumidity)\n",
    "             SELECT 'wmo', 'local_date_time_full', 'apparent_t', 'air_temp', 'delta_t', 'dewpt', 'rel_hum'\n",
    "             FROM temp;\"\"\")"
   ]
  },
  {
   "cell_type": "code",
   "execution_count": null,
   "metadata": {},
   "outputs": [],
   "source": [
    "c.execute(\"\"\"INSERT INTO windInfo (ID, local_date_time_full, windDir, windSpeedKMH, windSpeedKnots, gustKMH, gustKnots, pressure, pressureQNH, pressureMSL)\n",
    "             SELECT 'wmo', 'local_date_time_full', wind_dir, wind_spd_kmh, wind_spd_kt, gust_kmh, gust_kt, press, press_qnh, press_msl\n",
    "             FROM temp;\"\"\")"
   ]
  },
  {
   "cell_type": "code",
   "execution_count": null,
   "metadata": {},
   "outputs": [],
   "source": [
    "c.execute(\"\"\"INSERT INTO rainInfo (ID, local_date_time_full, rainTrace, visibilityKM)\n",
    "             SELECT 'wmo', 'local_date_time_full', 'rain_trace', 'vis_km'\n",
    "             FROM temp;\"\"\")"
   ]
  },
  {
   "cell_type": "markdown",
   "metadata": {},
   "source": [
    "## Commit all transactions"
   ]
  },
  {
   "cell_type": "code",
   "execution_count": null,
   "metadata": {},
   "outputs": [],
   "source": [
    "c.commit()"
   ]
  }
 ],
 "metadata": {
  "kernelspec": {
   "display_name": "Python 3",
   "language": "python",
   "name": "python3"
  },
  "language_info": {
   "codemirror_mode": {
    "name": "ipython",
    "version": 3
   },
   "file_extension": ".py",
   "mimetype": "text/x-python",
   "name": "python",
   "nbconvert_exporter": "python",
   "pygments_lexer": "ipython3",
   "version": "3.8.8"
  }
 },
 "nbformat": 4,
 "nbformat_minor": 4
}
